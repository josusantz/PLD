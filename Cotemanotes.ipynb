{
 "cells": [
  {
   "cell_type": "code",
   "execution_count": 26,
   "id": "a27f1847-d249-4535-8171-c58acce9f3f3",
   "metadata": {},
   "outputs": [],
   "source": [
    "import numpy as np \n",
    "import pandas as pd\n",
    "import plotly.express as px"
   ]
  },
  {
   "cell_type": "code",
   "execution_count": 29,
   "id": "9a51fcd8-a77d-432d-976b-1392030a0ba8",
   "metadata": {},
   "outputs": [],
   "source": [
    "data_frame01 = pd.read_csv('/home/josusantz/Development/Py/I-COTEMA/PYTHON/DADOS/1060a8b6-84ad-4594-b3ac-53a9cfedcb46.csv')\n",
    "data_frame02 = pd.read_csv('/home/josusantz/Development/Py/I-COTEMA/PYTHON/DADOS/pld_horario_submercado_2023.csv', sep = ';')"
   ]
  },
  {
   "cell_type": "code",
   "execution_count": 30,
   "id": "387a8d00-2a37-4e75-b385-edbda07d66c7",
   "metadata": {},
   "outputs": [
    {
     "data": {
      "text/html": [
       "<div>\n",
       "<style scoped>\n",
       "    .dataframe tbody tr th:only-of-type {\n",
       "        vertical-align: middle;\n",
       "    }\n",
       "\n",
       "    .dataframe tbody tr th {\n",
       "        vertical-align: top;\n",
       "    }\n",
       "\n",
       "    .dataframe thead th {\n",
       "        text-align: right;\n",
       "    }\n",
       "</style>\n",
       "<table border=\"1\" class=\"dataframe\">\n",
       "  <thead>\n",
       "    <tr style=\"text-align: right;\">\n",
       "      <th></th>\n",
       "      <th>_id</th>\n",
       "      <th>SUBMERCADO</th>\n",
       "      <th>MES_REFERENCIA</th>\n",
       "      <th>PERIODO_COMERCIALIZACAO</th>\n",
       "      <th>CONSUMO_RECONCILIADO</th>\n",
       "      <th>CONSUMO_GERACAO</th>\n",
       "    </tr>\n",
       "  </thead>\n",
       "  <tbody>\n",
       "    <tr>\n",
       "      <th>0</th>\n",
       "      <td>1</td>\n",
       "      <td>NORDESTE</td>\n",
       "      <td>202309</td>\n",
       "      <td>1</td>\n",
       "      <td>12016.765778</td>\n",
       "      <td>32.904592</td>\n",
       "    </tr>\n",
       "    <tr>\n",
       "      <th>1</th>\n",
       "      <td>2</td>\n",
       "      <td>NORDESTE</td>\n",
       "      <td>202309</td>\n",
       "      <td>2</td>\n",
       "      <td>11671.500078</td>\n",
       "      <td>32.990554</td>\n",
       "    </tr>\n",
       "    <tr>\n",
       "      <th>2</th>\n",
       "      <td>3</td>\n",
       "      <td>NORDESTE</td>\n",
       "      <td>202309</td>\n",
       "      <td>3</td>\n",
       "      <td>11389.795112</td>\n",
       "      <td>33.088436</td>\n",
       "    </tr>\n",
       "    <tr>\n",
       "      <th>3</th>\n",
       "      <td>4</td>\n",
       "      <td>NORDESTE</td>\n",
       "      <td>202309</td>\n",
       "      <td>4</td>\n",
       "      <td>11179.839707</td>\n",
       "      <td>33.201287</td>\n",
       "    </tr>\n",
       "    <tr>\n",
       "      <th>4</th>\n",
       "      <td>5</td>\n",
       "      <td>NORDESTE</td>\n",
       "      <td>202309</td>\n",
       "      <td>5</td>\n",
       "      <td>11040.114548</td>\n",
       "      <td>33.493689</td>\n",
       "    </tr>\n",
       "  </tbody>\n",
       "</table>\n",
       "</div>"
      ],
      "text/plain": [
       "   _id SUBMERCADO  MES_REFERENCIA  PERIODO_COMERCIALIZACAO  \\\n",
       "0    1   NORDESTE          202309                        1   \n",
       "1    2   NORDESTE          202309                        2   \n",
       "2    3   NORDESTE          202309                        3   \n",
       "3    4   NORDESTE          202309                        4   \n",
       "4    5   NORDESTE          202309                        5   \n",
       "\n",
       "   CONSUMO_RECONCILIADO  CONSUMO_GERACAO  \n",
       "0          12016.765778        32.904592  \n",
       "1          11671.500078        32.990554  \n",
       "2          11389.795112        33.088436  \n",
       "3          11179.839707        33.201287  \n",
       "4          11040.114548        33.493689  "
      ]
     },
     "execution_count": 30,
     "metadata": {},
     "output_type": "execute_result"
    }
   ],
   "source": [
    "data_frame01.head()"
   ]
  },
  {
   "cell_type": "code",
   "execution_count": 31,
   "id": "8b22cb7f-1f08-4a4e-ba75-88c53b7ebb0a",
   "metadata": {},
   "outputs": [
    {
     "data": {
      "text/html": [
       "<div>\n",
       "<style scoped>\n",
       "    .dataframe tbody tr th:only-of-type {\n",
       "        vertical-align: middle;\n",
       "    }\n",
       "\n",
       "    .dataframe tbody tr th {\n",
       "        vertical-align: top;\n",
       "    }\n",
       "\n",
       "    .dataframe thead th {\n",
       "        text-align: right;\n",
       "    }\n",
       "</style>\n",
       "<table border=\"1\" class=\"dataframe\">\n",
       "  <thead>\n",
       "    <tr style=\"text-align: right;\">\n",
       "      <th></th>\n",
       "      <th>MES_REFERENCIA</th>\n",
       "      <th>SUBMERCADO</th>\n",
       "      <th>PERIODO_COMERCIALIZACAO</th>\n",
       "      <th>PLD</th>\n",
       "    </tr>\n",
       "  </thead>\n",
       "  <tbody>\n",
       "    <tr>\n",
       "      <th>0</th>\n",
       "      <td>202309</td>\n",
       "      <td>NORDESTE</td>\n",
       "      <td>1</td>\n",
       "      <td>69.04</td>\n",
       "    </tr>\n",
       "    <tr>\n",
       "      <th>1</th>\n",
       "      <td>202309</td>\n",
       "      <td>NORDESTE</td>\n",
       "      <td>2</td>\n",
       "      <td>69.04</td>\n",
       "    </tr>\n",
       "    <tr>\n",
       "      <th>2</th>\n",
       "      <td>202309</td>\n",
       "      <td>NORDESTE</td>\n",
       "      <td>3</td>\n",
       "      <td>69.04</td>\n",
       "    </tr>\n",
       "    <tr>\n",
       "      <th>3</th>\n",
       "      <td>202309</td>\n",
       "      <td>NORDESTE</td>\n",
       "      <td>4</td>\n",
       "      <td>69.04</td>\n",
       "    </tr>\n",
       "    <tr>\n",
       "      <th>4</th>\n",
       "      <td>202309</td>\n",
       "      <td>NORDESTE</td>\n",
       "      <td>5</td>\n",
       "      <td>69.04</td>\n",
       "    </tr>\n",
       "  </tbody>\n",
       "</table>\n",
       "</div>"
      ],
      "text/plain": [
       "   MES_REFERENCIA SUBMERCADO  PERIODO_COMERCIALIZACAO    PLD\n",
       "0          202309   NORDESTE                        1  69.04\n",
       "1          202309   NORDESTE                        2  69.04\n",
       "2          202309   NORDESTE                        3  69.04\n",
       "3          202309   NORDESTE                        4  69.04\n",
       "4          202309   NORDESTE                        5  69.04"
      ]
     },
     "execution_count": 31,
     "metadata": {},
     "output_type": "execute_result"
    }
   ],
   "source": [
    "data_frame02.head()"
   ]
  },
  {
   "cell_type": "code",
   "execution_count": 34,
   "id": "da5d8d58-e0c8-4678-8a68-00655dce10f9",
   "metadata": {},
   "outputs": [],
   "source": [
    "reservatorio = pd.read_csv('/home/josusantz/Development/Py/I-COTEMA/PYTHON/DADOS/RESERVATORIOS.csv', sep = ';')"
   ]
  },
  {
   "cell_type": "code",
   "execution_count": 35,
   "id": "cc30e6a8-6054-4c46-bc7e-03880c072f54",
   "metadata": {},
   "outputs": [
    {
     "data": {
      "text/plain": [
       "Index(['nom_reservatorio', 'tip_reservatorio', 'cod_resplanejamento',\n",
       "       'cod_posto', 'nom_usina', 'ceg', 'id_subsistema', 'nom_subsistema',\n",
       "       'nom_bacia', 'nom_rio', 'nom_ree', 'dat_entrada', 'val_cotamaxima',\n",
       "       'val_cotaminima', 'val_volmax', 'val_volmin', 'val_volutiltot',\n",
       "       'val_produtibilidadeespecifica', 'val_produtividade65volutil',\n",
       "       'val_tipoperda', 'val_perda', 'val_latitude', 'val_longitude'],\n",
       "      dtype='object')"
      ]
     },
     "execution_count": 35,
     "metadata": {},
     "output_type": "execute_result"
    }
   ],
   "source": [
    "reservatorio.columns"
   ]
  },
  {
   "cell_type": "code",
   "execution_count": null,
   "id": "e3d3e439-bfb8-49dd-8901-24bacf00e11d",
   "metadata": {},
   "outputs": [],
   "source": []
  }
 ],
 "metadata": {
  "kernelspec": {
   "display_name": "Python 3 (ipykernel)",
   "language": "python",
   "name": "python3"
  },
  "language_info": {
   "codemirror_mode": {
    "name": "ipython",
    "version": 3
   },
   "file_extension": ".py",
   "mimetype": "text/x-python",
   "name": "python",
   "nbconvert_exporter": "python",
   "pygments_lexer": "ipython3",
   "version": "3.10.12"
  }
 },
 "nbformat": 4,
 "nbformat_minor": 5
}
